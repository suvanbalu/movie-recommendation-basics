{
 "cells": [
  {
   "attachments": {},
   "cell_type": "markdown",
   "metadata": {},
   "source": [
    "# Comparative Study of Collaborative and Content-Based Filtering\n",
    "\n",
    "*Collaborative filtering* and *content-based filtering* are two popular recommendation algorithms used in recommender systems. Collaborative filtering techniques are based on the idea that users who have similar preferences in the past tend to have similar preferences in the future, while content-based filtering uses the characteristics of the items being recommended to identify similar items. \n",
    "\n",
    "## Techniques\n",
    "\n",
    "### Item-based Collaborative Filtering using Cosine Similarity\n",
    "\n",
    "In this technique, the similarity between items is calculated using the cosine similarity measure. The algorithm then identifies items that are similar to the ones a user has rated highly and recommends those items to the user. This technique is known for its *scalability* and its ability to handle *sparsity* in data. However, it tends to suffer from the \"*cold-start problem*,\" where new items with no ratings cannot be recommended until they have been rated by users.\n",
    "\n",
    "### User-based Collaborative Filtering using KNN\n",
    "\n",
    "This technique uses the similarity between users to recommend items. The algorithm first identifies users who have similar preferences to the current user and then recommends items that those similar users have rated highly. This technique is prone to the \"*sparsity problem*,\" where there are few users with similar preferences to the current user. However, it does not suffer from the cold-start problem.\n",
    "\n",
    "### Neural Network to Predict Ratings\n",
    "\n",
    "This technique uses a neural network to predict user ratings for items based on past rating data. The neural network learns the patterns in the data and makes predictions for new items based on those patterns. This technique requires a significant amount of data to train the neural network and can be computationally expensive. However, it can handle both the cold-start problem and the sparsity problem.\n",
    "\n",
    "### Content-based Filtering using tf-idf and Cosine Distance\n",
    "\n",
    "This technique uses the characteristics of the items being recommended to identify similar items. The algorithm first extracts features from the items, such as keywords or topics, and then calculates the similarity between items using the tf-idf and cosine distance measures. This technique can handle the cold-start problem and does not suffer from the sparsity problem. However, it relies on *accurate feature extraction* and can only recommend items with similar features to the ones the user has already rated.\n"
   ]
  },
  {
   "attachments": {},
   "cell_type": "markdown",
   "metadata": {},
   "source": [
    "### Results of Different Models for Movie \"Toy Story\"\n",
    "\n",
    "| Item-based | Content-based |\n",
    "| --- | --- |\n",
    "Star Wars (1977) | Avatar |\n",
    "Return of the Jedi (1983) | Pirates of the Caribbean: At World's End |\n",
    "Independence Day (ID4) (1996) | Spectre |\n",
    "Rock, The (1996) | The Dark Knight Rises |\n",
    "Mission: Impossible (1996) | John Carter |\n",
    "Willy Wonka and the Chocolate Factory (1971) | Spider-Man 3 |\n",
    "Star Trek: First Contact (1996) | Tangled |\n",
    "Fargo (1996) | Avengers: Age of Ultron |\n",
    "Jerry Maguire (1996) | Harry Potter and the Half-Blood Prince |\n",
    "\n"
   ]
  },
  {
   "attachments": {},
   "cell_type": "markdown",
   "metadata": {},
   "source": [
    "### Comparing Results from User-based with Deep Learning Model\n",
    "`Let UserID be 673`\n",
    "\n",
    "| User-based (Movie) | Deep Learning Model (Rating for the Movie)|\n",
    "| --- | --- |\n",
    "Game, The (1997) | 3.7342758 |\n",
    "Jackie Brown (1997) | 3.8315904 |\n",
    "Lost Highway (1997) | 3.28018 |\n",
    "Alien: Resurrection (1997) | 3.5231757 |\n",
    "As Good As It Gets (1997) | 4.244693 |\n",
    "Mrs. Brown (Her Majesty, Mrs. Brown) (1997) | 4.076888 |\n",
    "U Turn (1997) | 3.5256 |\n",
    "Evita (1996) | 3.3188994 |\n",
    "Game, The (1997) | 3.7342758 |\n",
    "Volcano (1997) | 2.8005986 |\n",
    "\n"
   ]
  },
  {
   "attachments": {},
   "cell_type": "markdown",
   "metadata": {},
   "source": [
    "### Conclusion"
   ]
  },
  {
   "attachments": {},
   "cell_type": "markdown",
   "metadata": {},
   "source": [
    "| Technique | Strengths | Weaknesses |\n",
    "| --- | --- | --- |\n",
    "| Item-based CF using cosine similarity | Scalable, can handle sparsity in data | Suffers from the cold-start problem |\n",
    "| User-based CF using KNN | Does not suffer from the cold-start problem | Can be prone to the sparsity problem |\n",
    "| Neural network to predict ratings | Can handle both the cold-start problem and the sparsity problem | Requires significant amounts of data to train, computationally expensive |\n",
    "| Content-based filtering using tf-idf and cosine distance | Can handle the cold-start problem, does not suffer from sparsity | Relies on accurate feature extraction, can only recommend items with similar features to the ones the user has already rated |\n"
   ]
  },
  {
   "cell_type": "markdown",
   "metadata": {},
   "source": []
  }
 ],
 "metadata": {
  "kernelspec": {
   "display_name": "Python 3",
   "language": "python",
   "name": "python3"
  },
  "language_info": {
   "codemirror_mode": {
    "name": "ipython",
    "version": 3
   },
   "file_extension": ".py",
   "mimetype": "text/x-python",
   "name": "python",
   "nbconvert_exporter": "python",
   "pygments_lexer": "ipython3",
   "version": "3.9.7"
  },
  "orig_nbformat": 4,
  "vscode": {
   "interpreter": {
    "hash": "865d8b2eb28e274047ba64063dfb6a2aabf0dfec4905d304d7a76618dae6fdd4"
   }
  }
 },
 "nbformat": 4,
 "nbformat_minor": 2
}

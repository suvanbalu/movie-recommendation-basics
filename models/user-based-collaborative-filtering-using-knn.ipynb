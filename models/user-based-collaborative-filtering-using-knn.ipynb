{
 "cells": [
  {
   "attachments": {},
   "cell_type": "markdown",
   "id": "069acb5a",
   "metadata": {
    "papermill": {
     "duration": 0.011742,
     "end_time": "2023-02-25T21:52:01.677016",
     "exception": false,
     "start_time": "2023-02-25T21:52:01.665274",
     "status": "completed"
    },
    "tags": []
   },
   "source": [
    "\n",
    "<h1>User-based Collaborative Filtering using KNN</h1>\n",
    "\n",
    "* Item based  \n",
    "    * Let’s say one user buy item **P**.\n",
    "    * Now, from all the user’s data, there’s one item **S** which users bought almost all time whenever item **P** get bought.\n",
    "    * So, we recommend item **S** to users whenever they buy item **P**.\n",
    "    * Logic behind this is, similar items may be sold together.  \n",
    "<br>     \n",
    "* User based\n",
    "    * Let’s say we want to show recommendations to user **A**.\n",
    "    * In this method, we try to find a similar user **B** who also tends to like items that user **A** likes.\n",
    "    * So, we recommend user **B**‘s other liked items to user **A**.\n",
    "    * Logic behind this is, similar people may like similar items.  \n",
    "\n"
   ]
  },
  {
   "cell_type": "markdown",
   "id": "1653b41b",
   "metadata": {
    "papermill": {
     "duration": 0.01077,
     "end_time": "2023-02-25T21:52:01.698453",
     "exception": false,
     "start_time": "2023-02-25T21:52:01.687683",
     "status": "completed"
    },
    "tags": []
   },
   "source": [
    "# Analysis preparation"
   ]
  },
  {
   "cell_type": "code",
   "execution_count": 9,
   "id": "5641de65",
   "metadata": {
    "execution": {
     "iopub.execute_input": "2023-02-25T21:52:01.722383Z",
     "iopub.status.busy": "2023-02-25T21:52:01.721961Z",
     "iopub.status.idle": "2023-02-25T21:52:03.185899Z",
     "shell.execute_reply": "2023-02-25T21:52:03.184636Z"
    },
    "papermill": {
     "duration": 1.479829,
     "end_time": "2023-02-25T21:52:03.189739",
     "exception": false,
     "start_time": "2023-02-25T21:52:01.709910",
     "status": "completed"
    },
    "tags": []
   },
   "outputs": [],
   "source": [
    "import numpy as np\n",
    "import pandas as pd\n",
    "import re\n",
    "from scipy.sparse import csr_matrix\n",
    "from sklearn.metrics.pairwise import linear_kernel, cosine_similarity\n",
    "from sklearn.neighbors import NearestNeighbors\n",
    "from tqdm import tqdm\n",
    "import matplotlib.pyplot as plt"
   ]
  },
  {
   "attachments": {},
   "cell_type": "markdown",
   "id": "a5bbd687",
   "metadata": {},
   "source": [
    "### We have the following datasets\n",
    "\n",
    "1. u.user - Contains information about the users\n",
    "2. u.item - Contains information about the movies\n",
    "3. u.genre - Contains information about the genres\n",
    "4. u.data - Contains information about the ratings"
   ]
  },
  {
   "cell_type": "markdown",
   "id": "be69d9fc",
   "metadata": {
    "papermill": {
     "duration": 0.012189,
     "end_time": "2023-02-25T21:52:03.212509",
     "exception": false,
     "start_time": "2023-02-25T21:52:03.200320",
     "status": "completed"
    },
    "tags": []
   },
   "source": [
    "## Read users data"
   ]
  },
  {
   "cell_type": "code",
   "execution_count": 10,
   "id": "b85a0172",
   "metadata": {
    "execution": {
     "iopub.execute_input": "2023-02-25T21:52:03.237095Z",
     "iopub.status.busy": "2023-02-25T21:52:03.236301Z",
     "iopub.status.idle": "2023-02-25T21:52:03.283399Z",
     "shell.execute_reply": "2023-02-25T21:52:03.282023Z"
    },
    "papermill": {
     "duration": 0.06302,
     "end_time": "2023-02-25T21:52:03.286552",
     "exception": false,
     "start_time": "2023-02-25T21:52:03.223532",
     "status": "completed"
    },
    "tags": []
   },
   "outputs": [
    {
     "data": {
      "text/html": [
       "<div>\n",
       "<style scoped>\n",
       "    .dataframe tbody tr th:only-of-type {\n",
       "        vertical-align: middle;\n",
       "    }\n",
       "\n",
       "    .dataframe tbody tr th {\n",
       "        vertical-align: top;\n",
       "    }\n",
       "\n",
       "    .dataframe thead th {\n",
       "        text-align: right;\n",
       "    }\n",
       "</style>\n",
       "<table border=\"1\" class=\"dataframe\">\n",
       "  <thead>\n",
       "    <tr style=\"text-align: right;\">\n",
       "      <th></th>\n",
       "      <th>user_id</th>\n",
       "      <th>age</th>\n",
       "      <th>sex</th>\n",
       "      <th>occupation</th>\n",
       "      <th>zip_code</th>\n",
       "    </tr>\n",
       "  </thead>\n",
       "  <tbody>\n",
       "    <tr>\n",
       "      <th>0</th>\n",
       "      <td>1</td>\n",
       "      <td>24</td>\n",
       "      <td>M</td>\n",
       "      <td>technician</td>\n",
       "      <td>85711</td>\n",
       "    </tr>\n",
       "    <tr>\n",
       "      <th>1</th>\n",
       "      <td>2</td>\n",
       "      <td>53</td>\n",
       "      <td>F</td>\n",
       "      <td>other</td>\n",
       "      <td>94043</td>\n",
       "    </tr>\n",
       "    <tr>\n",
       "      <th>2</th>\n",
       "      <td>3</td>\n",
       "      <td>23</td>\n",
       "      <td>M</td>\n",
       "      <td>writer</td>\n",
       "      <td>32067</td>\n",
       "    </tr>\n",
       "    <tr>\n",
       "      <th>3</th>\n",
       "      <td>4</td>\n",
       "      <td>24</td>\n",
       "      <td>M</td>\n",
       "      <td>technician</td>\n",
       "      <td>43537</td>\n",
       "    </tr>\n",
       "    <tr>\n",
       "      <th>4</th>\n",
       "      <td>5</td>\n",
       "      <td>33</td>\n",
       "      <td>F</td>\n",
       "      <td>other</td>\n",
       "      <td>15213</td>\n",
       "    </tr>\n",
       "  </tbody>\n",
       "</table>\n",
       "</div>"
      ],
      "text/plain": [
       "   user_id  age sex  occupation zip_code\n",
       "0        1   24   M  technician    85711\n",
       "1        2   53   F       other    94043\n",
       "2        3   23   M      writer    32067\n",
       "3        4   24   M  technician    43537\n",
       "4        5   33   F       other    15213"
      ]
     },
     "execution_count": 10,
     "metadata": {},
     "output_type": "execute_result"
    }
   ],
   "source": [
    "user_columns = ['user_id', 'age', 'sex', 'occupation', 'zip_code']\n",
    "users_df = pd.read_csv(r'..\\datasets\\ml-100k\\u.user', sep='|', names=user_columns) \n",
    "users_df.head()"
   ]
  },
  {
   "cell_type": "markdown",
   "id": "e1aeccb4",
   "metadata": {
    "papermill": {
     "duration": 0.01046,
     "end_time": "2023-02-25T21:52:03.308067",
     "exception": false,
     "start_time": "2023-02-25T21:52:03.297607",
     "status": "completed"
    },
    "tags": []
   },
   "source": [
    "## Read movies data"
   ]
  },
  {
   "cell_type": "code",
   "execution_count": 11,
   "id": "151dcbc0",
   "metadata": {
    "execution": {
     "iopub.execute_input": "2023-02-25T21:52:03.333196Z",
     "iopub.status.busy": "2023-02-25T21:52:03.332279Z",
     "iopub.status.idle": "2023-02-25T21:52:03.354978Z",
     "shell.execute_reply": "2023-02-25T21:52:03.353413Z"
    },
    "papermill": {
     "duration": 0.039324,
     "end_time": "2023-02-25T21:52:03.358196",
     "exception": false,
     "start_time": "2023-02-25T21:52:03.318872",
     "status": "completed"
    },
    "tags": []
   },
   "outputs": [
    {
     "name": "stdout",
     "output_type": "stream",
     "text": [
      "['unknown', 'Action', 'Adventure', 'Animation', \"Children's\", 'Comedy', 'Crime', 'Documentary', 'Drama', 'Fantasy', 'Film-Noir', 'Horror', 'Musical', 'Mystery', 'Romance', 'Sci-Fi', 'Thriller', 'War', 'Western']\n"
     ]
    }
   ],
   "source": [
    "genre_df = pd.read_csv(r'..\\datasets\\ml-100k\\u.genre', sep='|', encoding='latin-1')\n",
    "genre_columns = [\"unknown\"] + list(genre_df[genre_df.columns[0]].values)\n",
    "print(genre_columns)"
   ]
  },
  {
   "cell_type": "code",
   "execution_count": 12,
   "id": "f6f65797",
   "metadata": {
    "execution": {
     "iopub.execute_input": "2023-02-25T21:52:03.383483Z",
     "iopub.status.busy": "2023-02-25T21:52:03.382988Z",
     "iopub.status.idle": "2023-02-25T21:52:03.412709Z",
     "shell.execute_reply": "2023-02-25T21:52:03.410953Z"
    },
    "papermill": {
     "duration": 0.046604,
     "end_time": "2023-02-25T21:52:03.416145",
     "exception": false,
     "start_time": "2023-02-25T21:52:03.369541",
     "status": "completed"
    },
    "tags": []
   },
   "outputs": [
    {
     "data": {
      "text/html": [
       "<div>\n",
       "<style scoped>\n",
       "    .dataframe tbody tr th:only-of-type {\n",
       "        vertical-align: middle;\n",
       "    }\n",
       "\n",
       "    .dataframe tbody tr th {\n",
       "        vertical-align: top;\n",
       "    }\n",
       "\n",
       "    .dataframe thead th {\n",
       "        text-align: right;\n",
       "    }\n",
       "</style>\n",
       "<table border=\"1\" class=\"dataframe\">\n",
       "  <thead>\n",
       "    <tr style=\"text-align: right;\">\n",
       "      <th></th>\n",
       "      <th>movie_id</th>\n",
       "      <th>title</th>\n",
       "      <th>release_date</th>\n",
       "      <th>video_release_date</th>\n",
       "      <th>imdb_url</th>\n",
       "      <th>unknown</th>\n",
       "      <th>Action</th>\n",
       "      <th>Adventure</th>\n",
       "      <th>Animation</th>\n",
       "      <th>Children's</th>\n",
       "      <th>...</th>\n",
       "      <th>Fantasy</th>\n",
       "      <th>Film-Noir</th>\n",
       "      <th>Horror</th>\n",
       "      <th>Musical</th>\n",
       "      <th>Mystery</th>\n",
       "      <th>Romance</th>\n",
       "      <th>Sci-Fi</th>\n",
       "      <th>Thriller</th>\n",
       "      <th>War</th>\n",
       "      <th>Western</th>\n",
       "    </tr>\n",
       "  </thead>\n",
       "  <tbody>\n",
       "    <tr>\n",
       "      <th>0</th>\n",
       "      <td>1</td>\n",
       "      <td>Toy Story (1995)</td>\n",
       "      <td>01-Jan-1995</td>\n",
       "      <td>NaN</td>\n",
       "      <td>http://us.imdb.com/M/title-exact?Toy%20Story%2...</td>\n",
       "      <td>0</td>\n",
       "      <td>0</td>\n",
       "      <td>0</td>\n",
       "      <td>1</td>\n",
       "      <td>1</td>\n",
       "      <td>...</td>\n",
       "      <td>0</td>\n",
       "      <td>0</td>\n",
       "      <td>0</td>\n",
       "      <td>0</td>\n",
       "      <td>0</td>\n",
       "      <td>0</td>\n",
       "      <td>0</td>\n",
       "      <td>0</td>\n",
       "      <td>0</td>\n",
       "      <td>0</td>\n",
       "    </tr>\n",
       "    <tr>\n",
       "      <th>1</th>\n",
       "      <td>2</td>\n",
       "      <td>GoldenEye (1995)</td>\n",
       "      <td>01-Jan-1995</td>\n",
       "      <td>NaN</td>\n",
       "      <td>http://us.imdb.com/M/title-exact?GoldenEye%20(...</td>\n",
       "      <td>0</td>\n",
       "      <td>1</td>\n",
       "      <td>1</td>\n",
       "      <td>0</td>\n",
       "      <td>0</td>\n",
       "      <td>...</td>\n",
       "      <td>0</td>\n",
       "      <td>0</td>\n",
       "      <td>0</td>\n",
       "      <td>0</td>\n",
       "      <td>0</td>\n",
       "      <td>0</td>\n",
       "      <td>0</td>\n",
       "      <td>1</td>\n",
       "      <td>0</td>\n",
       "      <td>0</td>\n",
       "    </tr>\n",
       "    <tr>\n",
       "      <th>2</th>\n",
       "      <td>3</td>\n",
       "      <td>Four Rooms (1995)</td>\n",
       "      <td>01-Jan-1995</td>\n",
       "      <td>NaN</td>\n",
       "      <td>http://us.imdb.com/M/title-exact?Four%20Rooms%...</td>\n",
       "      <td>0</td>\n",
       "      <td>0</td>\n",
       "      <td>0</td>\n",
       "      <td>0</td>\n",
       "      <td>0</td>\n",
       "      <td>...</td>\n",
       "      <td>0</td>\n",
       "      <td>0</td>\n",
       "      <td>0</td>\n",
       "      <td>0</td>\n",
       "      <td>0</td>\n",
       "      <td>0</td>\n",
       "      <td>0</td>\n",
       "      <td>1</td>\n",
       "      <td>0</td>\n",
       "      <td>0</td>\n",
       "    </tr>\n",
       "  </tbody>\n",
       "</table>\n",
       "<p>3 rows × 24 columns</p>\n",
       "</div>"
      ],
      "text/plain": [
       "   movie_id              title release_date  video_release_date  \\\n",
       "0         1   Toy Story (1995)  01-Jan-1995                 NaN   \n",
       "1         2   GoldenEye (1995)  01-Jan-1995                 NaN   \n",
       "2         3  Four Rooms (1995)  01-Jan-1995                 NaN   \n",
       "\n",
       "                                            imdb_url  unknown  Action  \\\n",
       "0  http://us.imdb.com/M/title-exact?Toy%20Story%2...        0       0   \n",
       "1  http://us.imdb.com/M/title-exact?GoldenEye%20(...        0       1   \n",
       "2  http://us.imdb.com/M/title-exact?Four%20Rooms%...        0       0   \n",
       "\n",
       "   Adventure  Animation  Children's  ...  Fantasy  Film-Noir  Horror  Musical  \\\n",
       "0          0          1           1  ...        0          0       0        0   \n",
       "1          1          0           0  ...        0          0       0        0   \n",
       "2          0          0           0  ...        0          0       0        0   \n",
       "\n",
       "   Mystery  Romance  Sci-Fi  Thriller  War  Western  \n",
       "0        0        0       0         0    0        0  \n",
       "1        0        0       0         1    0        0  \n",
       "2        0        0       0         1    0        0  \n",
       "\n",
       "[3 rows x 24 columns]"
      ]
     },
     "execution_count": 12,
     "metadata": {},
     "output_type": "execute_result"
    }
   ],
   "source": [
    "movie_columns = ['movie_id', 'title', 'release_date', 'video_release_date', 'imdb_url']\n",
    "movies_df = pd.read_csv(r'..\\datasets\\ml-100k\\u.item', sep='|', names=movie_columns+genre_columns,\n",
    "                    encoding='latin-1')\n",
    "\n",
    "movies_df.head(3)"
   ]
  },
  {
   "cell_type": "markdown",
   "id": "59264787",
   "metadata": {
    "papermill": {
     "duration": 0.011108,
     "end_time": "2023-02-25T21:52:03.438031",
     "exception": false,
     "start_time": "2023-02-25T21:52:03.426923",
     "status": "completed"
    },
    "tags": []
   },
   "source": [
    "Because we are not building now a content-based recommender, we retain only `movie_id` and `title`."
   ]
  },
  {
   "cell_type": "code",
   "execution_count": 13,
   "id": "82cb4880",
   "metadata": {
    "execution": {
     "iopub.execute_input": "2023-02-25T21:52:03.462669Z",
     "iopub.status.busy": "2023-02-25T21:52:03.462205Z",
     "iopub.status.idle": "2023-02-25T21:52:03.480392Z",
     "shell.execute_reply": "2023-02-25T21:52:03.478435Z"
    },
    "papermill": {
     "duration": 0.034012,
     "end_time": "2023-02-25T21:52:03.483277",
     "exception": false,
     "start_time": "2023-02-25T21:52:03.449265",
     "status": "completed"
    },
    "tags": []
   },
   "outputs": [
    {
     "data": {
      "text/html": [
       "<div>\n",
       "<style scoped>\n",
       "    .dataframe tbody tr th:only-of-type {\n",
       "        vertical-align: middle;\n",
       "    }\n",
       "\n",
       "    .dataframe tbody tr th {\n",
       "        vertical-align: top;\n",
       "    }\n",
       "\n",
       "    .dataframe thead th {\n",
       "        text-align: right;\n",
       "    }\n",
       "</style>\n",
       "<table border=\"1\" class=\"dataframe\">\n",
       "  <thead>\n",
       "    <tr style=\"text-align: right;\">\n",
       "      <th></th>\n",
       "      <th>movie_id</th>\n",
       "      <th>title</th>\n",
       "    </tr>\n",
       "  </thead>\n",
       "  <tbody>\n",
       "    <tr>\n",
       "      <th>0</th>\n",
       "      <td>1</td>\n",
       "      <td>Toy Story (1995)</td>\n",
       "    </tr>\n",
       "    <tr>\n",
       "      <th>1</th>\n",
       "      <td>2</td>\n",
       "      <td>GoldenEye (1995)</td>\n",
       "    </tr>\n",
       "  </tbody>\n",
       "</table>\n",
       "</div>"
      ],
      "text/plain": [
       "   movie_id             title\n",
       "0         1  Toy Story (1995)\n",
       "1         2  GoldenEye (1995)"
      ]
     },
     "execution_count": 13,
     "metadata": {},
     "output_type": "execute_result"
    }
   ],
   "source": [
    "movies_df = movies_df[[\"movie_id\", \"title\"]]\n",
    "movies_df.head(2)"
   ]
  },
  {
   "cell_type": "markdown",
   "id": "acbe9bc5",
   "metadata": {
    "papermill": {
     "duration": 0.010952,
     "end_time": "2023-02-25T21:52:03.505068",
     "exception": false,
     "start_time": "2023-02-25T21:52:03.494116",
     "status": "completed"
    },
    "tags": []
   },
   "source": [
    "## Read ratings data"
   ]
  },
  {
   "cell_type": "code",
   "execution_count": 14,
   "id": "f89abd5f",
   "metadata": {
    "execution": {
     "iopub.execute_input": "2023-02-25T21:52:03.531347Z",
     "iopub.status.busy": "2023-02-25T21:52:03.530883Z",
     "iopub.status.idle": "2023-02-25T21:52:03.621763Z",
     "shell.execute_reply": "2023-02-25T21:52:03.620269Z"
    },
    "papermill": {
     "duration": 0.10776,
     "end_time": "2023-02-25T21:52:03.624975",
     "exception": false,
     "start_time": "2023-02-25T21:52:03.517215",
     "status": "completed"
    },
    "tags": []
   },
   "outputs": [
    {
     "data": {
      "text/html": [
       "<div>\n",
       "<style scoped>\n",
       "    .dataframe tbody tr th:only-of-type {\n",
       "        vertical-align: middle;\n",
       "    }\n",
       "\n",
       "    .dataframe tbody tr th {\n",
       "        vertical-align: top;\n",
       "    }\n",
       "\n",
       "    .dataframe thead th {\n",
       "        text-align: right;\n",
       "    }\n",
       "</style>\n",
       "<table border=\"1\" class=\"dataframe\">\n",
       "  <thead>\n",
       "    <tr style=\"text-align: right;\">\n",
       "      <th></th>\n",
       "      <th>user_id</th>\n",
       "      <th>movie_id</th>\n",
       "      <th>rating</th>\n",
       "    </tr>\n",
       "  </thead>\n",
       "  <tbody>\n",
       "    <tr>\n",
       "      <th>0</th>\n",
       "      <td>196</td>\n",
       "      <td>242</td>\n",
       "      <td>3</td>\n",
       "    </tr>\n",
       "    <tr>\n",
       "      <th>1</th>\n",
       "      <td>186</td>\n",
       "      <td>302</td>\n",
       "      <td>3</td>\n",
       "    </tr>\n",
       "  </tbody>\n",
       "</table>\n",
       "</div>"
      ],
      "text/plain": [
       "   user_id  movie_id  rating\n",
       "0      196       242       3\n",
       "1      186       302       3"
      ]
     },
     "execution_count": 14,
     "metadata": {},
     "output_type": "execute_result"
    }
   ],
   "source": [
    "ratings_columns = ['user_id', 'movie_id', 'rating', 'unix_timestamp']\n",
    "ratings_df = pd.read_csv(r'..\\datasets\\ml-100k\\u.data', sep='\\t', names=ratings_columns)\n",
    "ratings_df.drop( \"unix_timestamp\", inplace = True, axis = 1 ) \n",
    "ratings_df.head(2)"
   ]
  },
  {
   "cell_type": "markdown",
   "id": "3287b6a5",
   "metadata": {
    "papermill": {
     "duration": 0.011065,
     "end_time": "2023-02-25T21:52:03.647239",
     "exception": false,
     "start_time": "2023-02-25T21:52:03.636174",
     "status": "completed"
    },
    "tags": []
   },
   "source": [
    "We merge now ratings with movie data."
   ]
  },
  {
   "cell_type": "code",
   "execution_count": 15,
   "id": "c341cfb9",
   "metadata": {
    "execution": {
     "iopub.execute_input": "2023-02-25T21:52:03.674379Z",
     "iopub.status.busy": "2023-02-25T21:52:03.673415Z",
     "iopub.status.idle": "2023-02-25T21:52:03.704425Z",
     "shell.execute_reply": "2023-02-25T21:52:03.703093Z"
    },
    "papermill": {
     "duration": 0.04853,
     "end_time": "2023-02-25T21:52:03.707566",
     "exception": false,
     "start_time": "2023-02-25T21:52:03.659036",
     "status": "completed"
    },
    "tags": []
   },
   "outputs": [],
   "source": [
    "rating_movies_df = ratings_df.merge(movies_df, how=\"outer\")"
   ]
  },
  {
   "cell_type": "code",
   "execution_count": 16,
   "id": "dbe9425c",
   "metadata": {
    "execution": {
     "iopub.execute_input": "2023-02-25T21:52:03.732831Z",
     "iopub.status.busy": "2023-02-25T21:52:03.732043Z",
     "iopub.status.idle": "2023-02-25T21:52:03.747520Z",
     "shell.execute_reply": "2023-02-25T21:52:03.746014Z"
    },
    "papermill": {
     "duration": 0.031672,
     "end_time": "2023-02-25T21:52:03.750229",
     "exception": false,
     "start_time": "2023-02-25T21:52:03.718557",
     "status": "completed"
    },
    "tags": []
   },
   "outputs": [
    {
     "name": "stdout",
     "output_type": "stream",
     "text": [
      "(100000, 4)\n"
     ]
    },
    {
     "data": {
      "text/html": [
       "<div>\n",
       "<style scoped>\n",
       "    .dataframe tbody tr th:only-of-type {\n",
       "        vertical-align: middle;\n",
       "    }\n",
       "\n",
       "    .dataframe tbody tr th {\n",
       "        vertical-align: top;\n",
       "    }\n",
       "\n",
       "    .dataframe thead th {\n",
       "        text-align: right;\n",
       "    }\n",
       "</style>\n",
       "<table border=\"1\" class=\"dataframe\">\n",
       "  <thead>\n",
       "    <tr style=\"text-align: right;\">\n",
       "      <th></th>\n",
       "      <th>user_id</th>\n",
       "      <th>movie_id</th>\n",
       "      <th>rating</th>\n",
       "      <th>title</th>\n",
       "    </tr>\n",
       "  </thead>\n",
       "  <tbody>\n",
       "    <tr>\n",
       "      <th>0</th>\n",
       "      <td>196</td>\n",
       "      <td>242</td>\n",
       "      <td>3</td>\n",
       "      <td>Kolya (1996)</td>\n",
       "    </tr>\n",
       "    <tr>\n",
       "      <th>1</th>\n",
       "      <td>63</td>\n",
       "      <td>242</td>\n",
       "      <td>3</td>\n",
       "      <td>Kolya (1996)</td>\n",
       "    </tr>\n",
       "  </tbody>\n",
       "</table>\n",
       "</div>"
      ],
      "text/plain": [
       "   user_id  movie_id  rating         title\n",
       "0      196       242       3  Kolya (1996)\n",
       "1       63       242       3  Kolya (1996)"
      ]
     },
     "execution_count": 16,
     "metadata": {},
     "output_type": "execute_result"
    }
   ],
   "source": [
    "print(rating_movies_df.shape)\n",
    "rating_movies_df.head(2)"
   ]
  },
  {
   "cell_type": "markdown",
   "id": "913d3678",
   "metadata": {
    "papermill": {
     "duration": 0.01143,
     "end_time": "2023-02-25T21:52:03.773385",
     "exception": false,
     "start_time": "2023-02-25T21:52:03.761955",
     "status": "completed"
    },
    "tags": []
   },
   "source": [
    "## Calculate total rating movie\n",
    "\n",
    "\n",
    "We will calculate now the total rating movie. We will only consider movies with a minimum rating factor, set conveniently so that we will not take into consideration movies that were only rated by a very small number of users."
   ]
  },
  {
   "cell_type": "code",
   "execution_count": 17,
   "id": "87b0f6fd",
   "metadata": {
    "execution": {
     "iopub.execute_input": "2023-02-25T21:52:03.799193Z",
     "iopub.status.busy": "2023-02-25T21:52:03.798086Z",
     "iopub.status.idle": "2023-02-25T21:52:03.844155Z",
     "shell.execute_reply": "2023-02-25T21:52:03.842774Z"
    },
    "papermill": {
     "duration": 0.062143,
     "end_time": "2023-02-25T21:52:03.847084",
     "exception": false,
     "start_time": "2023-02-25T21:52:03.784941",
     "status": "completed"
    },
    "tags": []
   },
   "outputs": [
    {
     "data": {
      "text/html": [
       "<div>\n",
       "<style scoped>\n",
       "    .dataframe tbody tr th:only-of-type {\n",
       "        vertical-align: middle;\n",
       "    }\n",
       "\n",
       "    .dataframe tbody tr th {\n",
       "        vertical-align: top;\n",
       "    }\n",
       "\n",
       "    .dataframe thead th {\n",
       "        text-align: right;\n",
       "    }\n",
       "</style>\n",
       "<table border=\"1\" class=\"dataframe\">\n",
       "  <thead>\n",
       "    <tr style=\"text-align: right;\">\n",
       "      <th></th>\n",
       "      <th>title</th>\n",
       "      <th>total_rating_count</th>\n",
       "    </tr>\n",
       "  </thead>\n",
       "  <tbody>\n",
       "    <tr>\n",
       "      <th>0</th>\n",
       "      <td>'Til There Was You (1997)</td>\n",
       "      <td>9</td>\n",
       "    </tr>\n",
       "    <tr>\n",
       "      <th>1</th>\n",
       "      <td>1-900 (1994)</td>\n",
       "      <td>5</td>\n",
       "    </tr>\n",
       "    <tr>\n",
       "      <th>2</th>\n",
       "      <td>101 Dalmatians (1996)</td>\n",
       "      <td>109</td>\n",
       "    </tr>\n",
       "    <tr>\n",
       "      <th>3</th>\n",
       "      <td>12 Angry Men (1957)</td>\n",
       "      <td>125</td>\n",
       "    </tr>\n",
       "    <tr>\n",
       "      <th>4</th>\n",
       "      <td>187 (1997)</td>\n",
       "      <td>41</td>\n",
       "    </tr>\n",
       "  </tbody>\n",
       "</table>\n",
       "</div>"
      ],
      "text/plain": [
       "                       title  total_rating_count\n",
       "0  'Til There Was You (1997)                   9\n",
       "1               1-900 (1994)                   5\n",
       "2      101 Dalmatians (1996)                 109\n",
       "3        12 Angry Men (1957)                 125\n",
       "4                 187 (1997)                  41"
      ]
     },
     "execution_count": 17,
     "metadata": {},
     "output_type": "execute_result"
    }
   ],
   "source": [
    "movie_rating = rating_movies_df.dropna(axis = 0, subset = [\"title\"])\n",
    "movie_rating_count = movie_rating.groupby([\"title\"])[\"rating\"].count().reset_index().rename(columns = {'rating': 'total_rating_count'})\n",
    "movie_rating_count.head()"
   ]
  },
  {
   "cell_type": "markdown",
   "id": "19cc2a31",
   "metadata": {
    "papermill": {
     "duration": 0.011573,
     "end_time": "2023-02-25T21:52:03.870297",
     "exception": false,
     "start_time": "2023-02-25T21:52:03.858724",
     "status": "completed"
    },
    "tags": []
   },
   "source": [
    "### Merge total rating count to the movie ratings"
   ]
  },
  {
   "cell_type": "code",
   "execution_count": 18,
   "id": "a3250d39",
   "metadata": {
    "execution": {
     "iopub.execute_input": "2023-02-25T21:52:03.897267Z",
     "iopub.status.busy": "2023-02-25T21:52:03.895993Z",
     "iopub.status.idle": "2023-02-25T21:52:03.924105Z",
     "shell.execute_reply": "2023-02-25T21:52:03.922598Z"
    },
    "papermill": {
     "duration": 0.045748,
     "end_time": "2023-02-25T21:52:03.927667",
     "exception": false,
     "start_time": "2023-02-25T21:52:03.881919",
     "status": "completed"
    },
    "tags": []
   },
   "outputs": [],
   "source": [
    "rating_movies_df = rating_movies_df.merge(movie_rating_count, on=\"title\", how=\"right\")"
   ]
  },
  {
   "cell_type": "code",
   "execution_count": 19,
   "id": "e203a1e9",
   "metadata": {
    "execution": {
     "iopub.execute_input": "2023-02-25T21:52:03.953316Z",
     "iopub.status.busy": "2023-02-25T21:52:03.952879Z",
     "iopub.status.idle": "2023-02-25T21:52:03.965377Z",
     "shell.execute_reply": "2023-02-25T21:52:03.964271Z"
    },
    "papermill": {
     "duration": 0.029019,
     "end_time": "2023-02-25T21:52:03.968221",
     "exception": false,
     "start_time": "2023-02-25T21:52:03.939202",
     "status": "completed"
    },
    "tags": []
   },
   "outputs": [
    {
     "data": {
      "text/html": [
       "<div>\n",
       "<style scoped>\n",
       "    .dataframe tbody tr th:only-of-type {\n",
       "        vertical-align: middle;\n",
       "    }\n",
       "\n",
       "    .dataframe tbody tr th {\n",
       "        vertical-align: top;\n",
       "    }\n",
       "\n",
       "    .dataframe thead th {\n",
       "        text-align: right;\n",
       "    }\n",
       "</style>\n",
       "<table border=\"1\" class=\"dataframe\">\n",
       "  <thead>\n",
       "    <tr style=\"text-align: right;\">\n",
       "      <th></th>\n",
       "      <th>user_id</th>\n",
       "      <th>movie_id</th>\n",
       "      <th>rating</th>\n",
       "      <th>title</th>\n",
       "      <th>total_rating_count</th>\n",
       "    </tr>\n",
       "  </thead>\n",
       "  <tbody>\n",
       "    <tr>\n",
       "      <th>0</th>\n",
       "      <td>223</td>\n",
       "      <td>1300</td>\n",
       "      <td>1</td>\n",
       "      <td>'Til There Was You (1997)</td>\n",
       "      <td>9</td>\n",
       "    </tr>\n",
       "    <tr>\n",
       "      <th>1</th>\n",
       "      <td>178</td>\n",
       "      <td>1300</td>\n",
       "      <td>3</td>\n",
       "      <td>'Til There Was You (1997)</td>\n",
       "      <td>9</td>\n",
       "    </tr>\n",
       "    <tr>\n",
       "      <th>2</th>\n",
       "      <td>342</td>\n",
       "      <td>1300</td>\n",
       "      <td>1</td>\n",
       "      <td>'Til There Was You (1997)</td>\n",
       "      <td>9</td>\n",
       "    </tr>\n",
       "    <tr>\n",
       "      <th>3</th>\n",
       "      <td>530</td>\n",
       "      <td>1300</td>\n",
       "      <td>2</td>\n",
       "      <td>'Til There Was You (1997)</td>\n",
       "      <td>9</td>\n",
       "    </tr>\n",
       "    <tr>\n",
       "      <th>4</th>\n",
       "      <td>416</td>\n",
       "      <td>1300</td>\n",
       "      <td>3</td>\n",
       "      <td>'Til There Was You (1997)</td>\n",
       "      <td>9</td>\n",
       "    </tr>\n",
       "  </tbody>\n",
       "</table>\n",
       "</div>"
      ],
      "text/plain": [
       "   user_id  movie_id  rating                      title  total_rating_count\n",
       "0      223      1300       1  'Til There Was You (1997)                   9\n",
       "1      178      1300       3  'Til There Was You (1997)                   9\n",
       "2      342      1300       1  'Til There Was You (1997)                   9\n",
       "3      530      1300       2  'Til There Was You (1997)                   9\n",
       "4      416      1300       3  'Til There Was You (1997)                   9"
      ]
     },
     "execution_count": 19,
     "metadata": {},
     "output_type": "execute_result"
    }
   ],
   "source": [
    "rating_movies_df.head()"
   ]
  },
  {
   "cell_type": "markdown",
   "id": "6f32c5d7",
   "metadata": {
    "papermill": {
     "duration": 0.011357,
     "end_time": "2023-02-25T21:52:03.991138",
     "exception": false,
     "start_time": "2023-02-25T21:52:03.979781",
     "status": "completed"
    },
    "tags": []
   },
   "source": [
    "### Filter only movies with a number of ratings over a threshold"
   ]
  },
  {
   "cell_type": "code",
   "execution_count": 20,
   "id": "41cc15d6",
   "metadata": {
    "execution": {
     "iopub.execute_input": "2023-02-25T21:52:04.017234Z",
     "iopub.status.busy": "2023-02-25T21:52:04.016714Z",
     "iopub.status.idle": "2023-02-25T21:52:04.036453Z",
     "shell.execute_reply": "2023-02-25T21:52:04.034962Z"
    },
    "papermill": {
     "duration": 0.036434,
     "end_time": "2023-02-25T21:52:04.039260",
     "exception": false,
     "start_time": "2023-02-25T21:52:04.002826",
     "status": "completed"
    },
    "tags": []
   },
   "outputs": [
    {
     "data": {
      "text/plain": [
       "count    100000.000000\n",
       "mean        169.088380\n",
       "std         122.187866\n",
       "min           1.000000\n",
       "25%          72.000000\n",
       "50%         146.000000\n",
       "75%         240.000000\n",
       "max         583.000000\n",
       "Name: total_rating_count, dtype: float64"
      ]
     },
     "execution_count": 20,
     "metadata": {},
     "output_type": "execute_result"
    }
   ],
   "source": [
    "rating_movies_df.total_rating_count.describe()"
   ]
  },
  {
   "cell_type": "code",
   "execution_count": 21,
   "id": "580f19b1",
   "metadata": {
    "execution": {
     "iopub.execute_input": "2023-02-25T21:52:04.066396Z",
     "iopub.status.busy": "2023-02-25T21:52:04.065631Z",
     "iopub.status.idle": "2023-02-25T21:52:04.418270Z",
     "shell.execute_reply": "2023-02-25T21:52:04.416738Z"
    },
    "papermill": {
     "duration": 0.370026,
     "end_time": "2023-02-25T21:52:04.421352",
     "exception": false,
     "start_time": "2023-02-25T21:52:04.051326",
     "status": "completed"
    },
    "tags": []
   },
   "outputs": [
    {
     "data": {
      "image/png": "[encoded data removed]",
      "text/plain": [
       "<Figure size 720x504 with 1 Axes>"
      ]
     },
     "metadata": {
      "needs_background": "light"
     },
     "output_type": "display_data"
    }
   ],
   "source": [
    "plt.figure(figsize=(10,7))\n",
    "plt.hist(rating_movies_df.total_rating_count, bins=50) #bins is the number of bars\n",
    "plt.title(\"Movies ratings distribution\")\n",
    "plt.show()"
   ]
  },
  {
   "attachments": {},
   "cell_type": "markdown",
   "id": "9e67e818",
   "metadata": {
    "papermill": {
     "duration": 0.011949,
     "end_time": "2023-02-25T21:52:04.446042",
     "exception": false,
     "start_time": "2023-02-25T21:52:04.434093",
     "status": "completed"
    },
    "tags": []
   },
   "source": [
    "We will only consider moview with at least 50 ratings."
   ]
  },
  {
   "cell_type": "code",
   "execution_count": 22,
   "id": "c8ad2c37",
   "metadata": {
    "execution": {
     "iopub.execute_input": "2023-02-25T21:52:04.472988Z",
     "iopub.status.busy": "2023-02-25T21:52:04.472511Z",
     "iopub.status.idle": "2023-02-25T21:52:04.501629Z",
     "shell.execute_reply": "2023-02-25T21:52:04.499566Z"
    },
    "papermill": {
     "duration": 0.046964,
     "end_time": "2023-02-25T21:52:04.505163",
     "exception": false,
     "start_time": "2023-02-25T21:52:04.458199",
     "status": "completed"
    },
    "tags": []
   },
   "outputs": [
    {
     "name": "stdout",
     "output_type": "stream",
     "text": [
      "(84069, 5)\n"
     ]
    },
    {
     "data": {
      "text/html": [
       "<div>\n",
       "<style scoped>\n",
       "    .dataframe tbody tr th:only-of-type {\n",
       "        vertical-align: middle;\n",
       "    }\n",
       "\n",
       "    .dataframe tbody tr th {\n",
       "        vertical-align: top;\n",
       "    }\n",
       "\n",
       "    .dataframe thead th {\n",
       "        text-align: right;\n",
       "    }\n",
       "</style>\n",
       "<table border=\"1\" class=\"dataframe\">\n",
       "  <thead>\n",
       "    <tr style=\"text-align: right;\">\n",
       "      <th></th>\n",
       "      <th>user_id</th>\n",
       "      <th>movie_id</th>\n",
       "      <th>rating</th>\n",
       "      <th>title</th>\n",
       "      <th>total_rating_count</th>\n",
       "    </tr>\n",
       "  </thead>\n",
       "  <tbody>\n",
       "    <tr>\n",
       "      <th>14</th>\n",
       "      <td>5</td>\n",
       "      <td>225</td>\n",
       "      <td>2</td>\n",
       "      <td>101 Dalmatians (1996)</td>\n",
       "      <td>109</td>\n",
       "    </tr>\n",
       "    <tr>\n",
       "      <th>15</th>\n",
       "      <td>243</td>\n",
       "      <td>225</td>\n",
       "      <td>3</td>\n",
       "      <td>101 Dalmatians (1996)</td>\n",
       "      <td>109</td>\n",
       "    </tr>\n",
       "    <tr>\n",
       "      <th>16</th>\n",
       "      <td>200</td>\n",
       "      <td>225</td>\n",
       "      <td>4</td>\n",
       "      <td>101 Dalmatians (1996)</td>\n",
       "      <td>109</td>\n",
       "    </tr>\n",
       "    <tr>\n",
       "      <th>17</th>\n",
       "      <td>280</td>\n",
       "      <td>225</td>\n",
       "      <td>4</td>\n",
       "      <td>101 Dalmatians (1996)</td>\n",
       "      <td>109</td>\n",
       "    </tr>\n",
       "    <tr>\n",
       "      <th>18</th>\n",
       "      <td>1</td>\n",
       "      <td>225</td>\n",
       "      <td>2</td>\n",
       "      <td>101 Dalmatians (1996)</td>\n",
       "      <td>109</td>\n",
       "    </tr>\n",
       "  </tbody>\n",
       "</table>\n",
       "</div>"
      ],
      "text/plain": [
       "    user_id  movie_id  rating                  title  total_rating_count\n",
       "14        5       225       2  101 Dalmatians (1996)                 109\n",
       "15      243       225       3  101 Dalmatians (1996)                 109\n",
       "16      200       225       4  101 Dalmatians (1996)                 109\n",
       "17      280       225       4  101 Dalmatians (1996)                 109\n",
       "18        1       225       2  101 Dalmatians (1996)                 109"
      ]
     },
     "execution_count": 22,
     "metadata": {},
     "output_type": "execute_result"
    }
   ],
   "source": [
    "ratings_threshold = 50\n",
    "rating_popular_movies_df = rating_movies_df.loc[rating_movies_df.total_rating_count >= ratings_threshold]\n",
    "print(rating_popular_movies_df.shape)\n",
    "rating_popular_movies_df.head()"
   ]
  },
  {
   "cell_type": "code",
   "execution_count": 23,
   "id": "2b0ac688",
   "metadata": {
    "execution": {
     "iopub.execute_input": "2023-02-25T21:52:04.533099Z",
     "iopub.status.busy": "2023-02-25T21:52:04.532657Z",
     "iopub.status.idle": "2023-02-25T21:52:04.853114Z",
     "shell.execute_reply": "2023-02-25T21:52:04.851625Z"
    },
    "papermill": {
     "duration": 0.337941,
     "end_time": "2023-02-25T21:52:04.855973",
     "exception": false,
     "start_time": "2023-02-25T21:52:04.518032",
     "status": "completed"
    },
    "tags": []
   },
   "outputs": [
    {
     "data": {
      "image/png": "[encoded data removed]",
      "text/plain": [
       "<Figure size 720x504 with 1 Axes>"
      ]
     },
     "metadata": {
      "needs_background": "light"
     },
     "output_type": "display_data"
    }
   ],
   "source": [
    "plt.figure(figsize=(10,7))\n",
    "plt.hist(rating_popular_movies_df.total_rating_count, bins=50)\n",
    "plt.title(\"Distribution of movies with over 100 ratings\")\n",
    "plt.show()"
   ]
  },
  {
   "cell_type": "markdown",
   "id": "421db8cb",
   "metadata": {
    "papermill": {
     "duration": 0.012958,
     "end_time": "2023-02-25T21:52:04.882192",
     "exception": false,
     "start_time": "2023-02-25T21:52:04.869234",
     "status": "completed"
    },
    "tags": []
   },
   "source": [
    "## Create pivot matrix (pivot table)"
   ]
  },
  {
   "cell_type": "code",
   "execution_count": 24,
   "id": "35b5e378",
   "metadata": {
    "execution": {
     "iopub.execute_input": "2023-02-25T21:52:04.912305Z",
     "iopub.status.busy": "2023-02-25T21:52:04.911522Z",
     "iopub.status.idle": "2023-02-25T21:52:05.033760Z",
     "shell.execute_reply": "2023-02-25T21:52:05.032197Z"
    },
    "papermill": {
     "duration": 0.141234,
     "end_time": "2023-02-25T21:52:05.037795",
     "exception": false,
     "start_time": "2023-02-25T21:52:04.896561",
     "status": "completed"
    },
    "tags": []
   },
   "outputs": [
    {
     "data": {
      "text/html": [
       "<div>\n",
       "<style scoped>\n",
       "    .dataframe tbody tr th:only-of-type {\n",
       "        vertical-align: middle;\n",
       "    }\n",
       "\n",
       "    .dataframe tbody tr th {\n",
       "        vertical-align: top;\n",
       "    }\n",
       "\n",
       "    .dataframe thead th {\n",
       "        text-align: right;\n",
       "    }\n",
       "</style>\n",
       "<table border=\"1\" class=\"dataframe\">\n",
       "  <thead>\n",
       "    <tr style=\"text-align: right;\">\n",
       "      <th>title</th>\n",
       "      <th>101 Dalmatians (1996)</th>\n",
       "      <th>12 Angry Men (1957)</th>\n",
       "      <th>2 Days in the Valley (1996)</th>\n",
       "      <th>20,000 Leagues Under the Sea (1954)</th>\n",
       "      <th>2001: A Space Odyssey (1968)</th>\n",
       "      <th>39 Steps, The (1935)</th>\n",
       "      <th>Absolute Power (1997)</th>\n",
       "      <th>Abyss, The (1989)</th>\n",
       "      <th>Ace Ventura: Pet Detective (1994)</th>\n",
       "      <th>Addams Family Values (1993)</th>\n",
       "      <th>...</th>\n",
       "      <th>Willy Wonka and the Chocolate Factory (1971)</th>\n",
       "      <th>Wings of Desire (1987)</th>\n",
       "      <th>Wings of the Dove, The (1997)</th>\n",
       "      <th>Winnie the Pooh and the Blustery Day (1968)</th>\n",
       "      <th>Wizard of Oz, The (1939)</th>\n",
       "      <th>Wolf (1994)</th>\n",
       "      <th>Wrong Trousers, The (1993)</th>\n",
       "      <th>Wyatt Earp (1994)</th>\n",
       "      <th>Young Frankenstein (1974)</th>\n",
       "      <th>Young Guns (1988)</th>\n",
       "    </tr>\n",
       "    <tr>\n",
       "      <th>user_id</th>\n",
       "      <th></th>\n",
       "      <th></th>\n",
       "      <th></th>\n",
       "      <th></th>\n",
       "      <th></th>\n",
       "      <th></th>\n",
       "      <th></th>\n",
       "      <th></th>\n",
       "      <th></th>\n",
       "      <th></th>\n",
       "      <th></th>\n",
       "      <th></th>\n",
       "      <th></th>\n",
       "      <th></th>\n",
       "      <th></th>\n",
       "      <th></th>\n",
       "      <th></th>\n",
       "      <th></th>\n",
       "      <th></th>\n",
       "      <th></th>\n",
       "      <th></th>\n",
       "    </tr>\n",
       "  </thead>\n",
       "  <tbody>\n",
       "    <tr>\n",
       "      <th>1</th>\n",
       "      <td>2.0</td>\n",
       "      <td>5.0</td>\n",
       "      <td>0.0</td>\n",
       "      <td>3.0</td>\n",
       "      <td>4.0</td>\n",
       "      <td>0.0</td>\n",
       "      <td>0.0</td>\n",
       "      <td>3.0</td>\n",
       "      <td>3.0</td>\n",
       "      <td>0.0</td>\n",
       "      <td>...</td>\n",
       "      <td>4.0</td>\n",
       "      <td>0.0</td>\n",
       "      <td>0.0</td>\n",
       "      <td>0.0</td>\n",
       "      <td>4.0</td>\n",
       "      <td>0.0</td>\n",
       "      <td>5.0</td>\n",
       "      <td>0.0</td>\n",
       "      <td>5.0</td>\n",
       "      <td>3.0</td>\n",
       "    </tr>\n",
       "    <tr>\n",
       "      <th>2</th>\n",
       "      <td>0.0</td>\n",
       "      <td>0.0</td>\n",
       "      <td>0.0</td>\n",
       "      <td>0.0</td>\n",
       "      <td>0.0</td>\n",
       "      <td>0.0</td>\n",
       "      <td>3.0</td>\n",
       "      <td>0.0</td>\n",
       "      <td>0.0</td>\n",
       "      <td>0.0</td>\n",
       "      <td>...</td>\n",
       "      <td>0.0</td>\n",
       "      <td>0.0</td>\n",
       "      <td>5.0</td>\n",
       "      <td>0.0</td>\n",
       "      <td>0.0</td>\n",
       "      <td>0.0</td>\n",
       "      <td>0.0</td>\n",
       "      <td>0.0</td>\n",
       "      <td>0.0</td>\n",
       "      <td>0.0</td>\n",
       "    </tr>\n",
       "    <tr>\n",
       "      <th>3</th>\n",
       "      <td>0.0</td>\n",
       "      <td>0.0</td>\n",
       "      <td>0.0</td>\n",
       "      <td>0.0</td>\n",
       "      <td>0.0</td>\n",
       "      <td>0.0</td>\n",
       "      <td>0.0</td>\n",
       "      <td>0.0</td>\n",
       "      <td>0.0</td>\n",
       "      <td>0.0</td>\n",
       "      <td>...</td>\n",
       "      <td>0.0</td>\n",
       "      <td>0.0</td>\n",
       "      <td>0.0</td>\n",
       "      <td>0.0</td>\n",
       "      <td>0.0</td>\n",
       "      <td>0.0</td>\n",
       "      <td>0.0</td>\n",
       "      <td>0.0</td>\n",
       "      <td>0.0</td>\n",
       "      <td>0.0</td>\n",
       "    </tr>\n",
       "    <tr>\n",
       "      <th>4</th>\n",
       "      <td>0.0</td>\n",
       "      <td>0.0</td>\n",
       "      <td>0.0</td>\n",
       "      <td>0.0</td>\n",
       "      <td>0.0</td>\n",
       "      <td>0.0</td>\n",
       "      <td>0.0</td>\n",
       "      <td>0.0</td>\n",
       "      <td>0.0</td>\n",
       "      <td>0.0</td>\n",
       "      <td>...</td>\n",
       "      <td>0.0</td>\n",
       "      <td>0.0</td>\n",
       "      <td>0.0</td>\n",
       "      <td>0.0</td>\n",
       "      <td>0.0</td>\n",
       "      <td>0.0</td>\n",
       "      <td>0.0</td>\n",
       "      <td>0.0</td>\n",
       "      <td>0.0</td>\n",
       "      <td>0.0</td>\n",
       "    </tr>\n",
       "    <tr>\n",
       "      <th>5</th>\n",
       "      <td>2.0</td>\n",
       "      <td>0.0</td>\n",
       "      <td>0.0</td>\n",
       "      <td>0.0</td>\n",
       "      <td>4.0</td>\n",
       "      <td>0.0</td>\n",
       "      <td>0.0</td>\n",
       "      <td>0.0</td>\n",
       "      <td>0.0</td>\n",
       "      <td>2.0</td>\n",
       "      <td>...</td>\n",
       "      <td>3.0</td>\n",
       "      <td>0.0</td>\n",
       "      <td>0.0</td>\n",
       "      <td>0.0</td>\n",
       "      <td>0.0</td>\n",
       "      <td>0.0</td>\n",
       "      <td>5.0</td>\n",
       "      <td>0.0</td>\n",
       "      <td>4.0</td>\n",
       "      <td>0.0</td>\n",
       "    </tr>\n",
       "  </tbody>\n",
       "</table>\n",
       "<p>5 rows × 605 columns</p>\n",
       "</div>"
      ],
      "text/plain": [
       "title    101 Dalmatians (1996)  12 Angry Men (1957)  \\\n",
       "user_id                                               \n",
       "1                          2.0                  5.0   \n",
       "2                          0.0                  0.0   \n",
       "3                          0.0                  0.0   \n",
       "4                          0.0                  0.0   \n",
       "5                          2.0                  0.0   \n",
       "\n",
       "title    2 Days in the Valley (1996)  20,000 Leagues Under the Sea (1954)  \\\n",
       "user_id                                                                     \n",
       "1                                0.0                                  3.0   \n",
       "2                                0.0                                  0.0   \n",
       "3                                0.0                                  0.0   \n",
       "4                                0.0                                  0.0   \n",
       "5                                0.0                                  0.0   \n",
       "\n",
       "title    2001: A Space Odyssey (1968)  39 Steps, The (1935)  \\\n",
       "user_id                                                       \n",
       "1                                 4.0                   0.0   \n",
       "2                                 0.0                   0.0   \n",
       "3                                 0.0                   0.0   \n",
       "4                                 0.0                   0.0   \n",
       "5                                 4.0                   0.0   \n",
       "\n",
       "title    Absolute Power (1997)  Abyss, The (1989)  \\\n",
       "user_id                                             \n",
       "1                          0.0                3.0   \n",
       "2                          3.0                0.0   \n",
       "3                          0.0                0.0   \n",
       "4                          0.0                0.0   \n",
       "5                          0.0                0.0   \n",
       "\n",
       "title    Ace Ventura: Pet Detective (1994)  Addams Family Values (1993)  ...  \\\n",
       "user_id                                                                  ...   \n",
       "1                                      3.0                          0.0  ...   \n",
       "2                                      0.0                          0.0  ...   \n",
       "3                                      0.0                          0.0  ...   \n",
       "4                                      0.0                          0.0  ...   \n",
       "5                                      0.0                          2.0  ...   \n",
       "\n",
       "title    Willy Wonka and the Chocolate Factory (1971)  Wings of Desire (1987)  \\\n",
       "user_id                                                                         \n",
       "1                                                 4.0                     0.0   \n",
       "2                                                 0.0                     0.0   \n",
       "3                                                 0.0                     0.0   \n",
       "4                                                 0.0                     0.0   \n",
       "5                                                 3.0                     0.0   \n",
       "\n",
       "title    Wings of the Dove, The (1997)  \\\n",
       "user_id                                  \n",
       "1                                  0.0   \n",
       "2                                  5.0   \n",
       "3                                  0.0   \n",
       "4                                  0.0   \n",
       "5                                  0.0   \n",
       "\n",
       "title    Winnie the Pooh and the Blustery Day (1968)  \\\n",
       "user_id                                                \n",
       "1                                                0.0   \n",
       "2                                                0.0   \n",
       "3                                                0.0   \n",
       "4                                                0.0   \n",
       "5                                                0.0   \n",
       "\n",
       "title    Wizard of Oz, The (1939)  Wolf (1994)  Wrong Trousers, The (1993)  \\\n",
       "user_id                                                                      \n",
       "1                             4.0          0.0                         5.0   \n",
       "2                             0.0          0.0                         0.0   \n",
       "3                             0.0          0.0                         0.0   \n",
       "4                             0.0          0.0                         0.0   \n",
       "5                             0.0          0.0                         5.0   \n",
       "\n",
       "title    Wyatt Earp (1994)  Young Frankenstein (1974)  Young Guns (1988)  \n",
       "user_id                                                                   \n",
       "1                      0.0                        5.0                3.0  \n",
       "2                      0.0                        0.0                0.0  \n",
       "3                      0.0                        0.0                0.0  \n",
       "4                      0.0                        0.0                0.0  \n",
       "5                      0.0                        4.0                0.0  \n",
       "\n",
       "[5 rows x 605 columns]"
      ]
     },
     "execution_count": 24,
     "metadata": {},
     "output_type": "execute_result"
    }
   ],
   "source": [
    "user_features_df = rating_popular_movies_df.pivot_table(index=\"user_id\", columns=\"title\", values=\"rating\").fillna(0.0)\n",
    "user_features_df.head()"
   ]
  },
  {
   "cell_type": "markdown",
   "id": "d711e64c",
   "metadata": {
    "papermill": {
     "duration": 0.013299,
     "end_time": "2023-02-25T21:52:05.064799",
     "exception": false,
     "start_time": "2023-02-25T21:52:05.051500",
     "status": "completed"
    },
    "tags": []
   },
   "source": [
    "We create a sparse matrix from the original dataframe.\n",
    "This will allow the following operations to be performed on a sparse matrix, i.e. faster (only non-zero values are included)."
   ]
  },
  {
   "cell_type": "code",
   "execution_count": 25,
   "id": "4633c442",
   "metadata": {
    "execution": {
     "iopub.execute_input": "2023-02-25T21:52:05.094075Z",
     "iopub.status.busy": "2023-02-25T21:52:05.093610Z",
     "iopub.status.idle": "2023-02-25T21:52:05.117917Z",
     "shell.execute_reply": "2023-02-25T21:52:05.116672Z"
    },
    "papermill": {
     "duration": 0.04273,
     "end_time": "2023-02-25T21:52:05.120916",
     "exception": false,
     "start_time": "2023-02-25T21:52:05.078186",
     "status": "completed"
    },
    "tags": []
   },
   "outputs": [],
   "source": [
    "user_features_matrix = csr_matrix(user_features_df)"
   ]
  },
  {
   "cell_type": "code",
   "execution_count": 26,
   "id": "30670394",
   "metadata": {
    "execution": {
     "iopub.execute_input": "2023-02-25T21:52:05.150178Z",
     "iopub.status.busy": "2023-02-25T21:52:05.149672Z",
     "iopub.status.idle": "2023-02-25T21:52:05.166282Z",
     "shell.execute_reply": "2023-02-25T21:52:05.164724Z"
    },
    "papermill": {
     "duration": 0.035186,
     "end_time": "2023-02-25T21:52:05.169631",
     "exception": false,
     "start_time": "2023-02-25T21:52:05.134445",
     "status": "completed"
    },
    "tags": []
   },
   "outputs": [
    {
     "data": {
      "text/plain": [
       "NearestNeighbors(algorithm='brute', metric='cosine', n_jobs=-1, n_neighbors=20)"
      ]
     },
     "execution_count": 26,
     "metadata": {},
     "output_type": "execute_result"
    }
   ],
   "source": [
    "model_knn = NearestNeighbors(metric = \"cosine\", algorithm = \"brute\", n_neighbors = 20, n_jobs=-1)\n",
    "model_knn.fit(user_features_matrix)"
   ]
  },
  {
   "cell_type": "code",
   "execution_count": 27,
   "id": "b3197c03",
   "metadata": {
    "execution": {
     "iopub.execute_input": "2023-02-25T21:52:05.201376Z",
     "iopub.status.busy": "2023-02-25T21:52:05.199857Z",
     "iopub.status.idle": "2023-02-25T21:52:05.209485Z",
     "shell.execute_reply": "2023-02-25T21:52:05.208056Z"
    },
    "papermill": {
     "duration": 0.028187,
     "end_time": "2023-02-25T21:52:05.212641",
     "exception": false,
     "start_time": "2023-02-25T21:52:05.184454",
     "status": "completed"
    },
    "tags": []
   },
   "outputs": [
    {
     "data": {
      "text/plain": [
       "(943, 605)"
      ]
     },
     "execution_count": 27,
     "metadata": {},
     "output_type": "execute_result"
    }
   ],
   "source": [
    "user_features_df.shape"
   ]
  },
  {
   "cell_type": "code",
   "execution_count": 28,
   "id": "15c8bc44",
   "metadata": {
    "execution": {
     "iopub.execute_input": "2023-02-25T21:52:05.241644Z",
     "iopub.status.busy": "2023-02-25T21:52:05.241166Z",
     "iopub.status.idle": "2023-02-25T21:52:05.283069Z",
     "shell.execute_reply": "2023-02-25T21:52:05.281171Z"
    },
    "papermill": {
     "duration": 0.06074,
     "end_time": "2023-02-25T21:52:05.286484",
     "exception": false,
     "start_time": "2023-02-25T21:52:05.225744",
     "status": "completed"
    },
    "tags": []
   },
   "outputs": [
    {
     "data": {
      "text/html": [
       "<div>\n",
       "<style scoped>\n",
       "    .dataframe tbody tr th:only-of-type {\n",
       "        vertical-align: middle;\n",
       "    }\n",
       "\n",
       "    .dataframe tbody tr th {\n",
       "        vertical-align: top;\n",
       "    }\n",
       "\n",
       "    .dataframe thead th {\n",
       "        text-align: right;\n",
       "    }\n",
       "</style>\n",
       "<table border=\"1\" class=\"dataframe\">\n",
       "  <thead>\n",
       "    <tr style=\"text-align: right;\">\n",
       "      <th>title</th>\n",
       "      <th>101 Dalmatians (1996)</th>\n",
       "      <th>12 Angry Men (1957)</th>\n",
       "      <th>2 Days in the Valley (1996)</th>\n",
       "      <th>20,000 Leagues Under the Sea (1954)</th>\n",
       "      <th>2001: A Space Odyssey (1968)</th>\n",
       "      <th>39 Steps, The (1935)</th>\n",
       "      <th>Absolute Power (1997)</th>\n",
       "      <th>Abyss, The (1989)</th>\n",
       "      <th>Ace Ventura: Pet Detective (1994)</th>\n",
       "      <th>Addams Family Values (1993)</th>\n",
       "      <th>...</th>\n",
       "      <th>Willy Wonka and the Chocolate Factory (1971)</th>\n",
       "      <th>Wings of Desire (1987)</th>\n",
       "      <th>Wings of the Dove, The (1997)</th>\n",
       "      <th>Winnie the Pooh and the Blustery Day (1968)</th>\n",
       "      <th>Wizard of Oz, The (1939)</th>\n",
       "      <th>Wolf (1994)</th>\n",
       "      <th>Wrong Trousers, The (1993)</th>\n",
       "      <th>Wyatt Earp (1994)</th>\n",
       "      <th>Young Frankenstein (1974)</th>\n",
       "      <th>Young Guns (1988)</th>\n",
       "    </tr>\n",
       "    <tr>\n",
       "      <th>user_id</th>\n",
       "      <th></th>\n",
       "      <th></th>\n",
       "      <th></th>\n",
       "      <th></th>\n",
       "      <th></th>\n",
       "      <th></th>\n",
       "      <th></th>\n",
       "      <th></th>\n",
       "      <th></th>\n",
       "      <th></th>\n",
       "      <th></th>\n",
       "      <th></th>\n",
       "      <th></th>\n",
       "      <th></th>\n",
       "      <th></th>\n",
       "      <th></th>\n",
       "      <th></th>\n",
       "      <th></th>\n",
       "      <th></th>\n",
       "      <th></th>\n",
       "      <th></th>\n",
       "    </tr>\n",
       "  </thead>\n",
       "  <tbody>\n",
       "    <tr>\n",
       "      <th>1</th>\n",
       "      <td>2.0</td>\n",
       "      <td>5.0</td>\n",
       "      <td>0.0</td>\n",
       "      <td>3.0</td>\n",
       "      <td>4.0</td>\n",
       "      <td>0.0</td>\n",
       "      <td>0.0</td>\n",
       "      <td>3.0</td>\n",
       "      <td>3.0</td>\n",
       "      <td>0.0</td>\n",
       "      <td>...</td>\n",
       "      <td>4.0</td>\n",
       "      <td>0.0</td>\n",
       "      <td>0.0</td>\n",
       "      <td>0.0</td>\n",
       "      <td>4.0</td>\n",
       "      <td>0.0</td>\n",
       "      <td>5.0</td>\n",
       "      <td>0.0</td>\n",
       "      <td>5.0</td>\n",
       "      <td>3.0</td>\n",
       "    </tr>\n",
       "    <tr>\n",
       "      <th>2</th>\n",
       "      <td>0.0</td>\n",
       "      <td>0.0</td>\n",
       "      <td>0.0</td>\n",
       "      <td>0.0</td>\n",
       "      <td>0.0</td>\n",
       "      <td>0.0</td>\n",
       "      <td>3.0</td>\n",
       "      <td>0.0</td>\n",
       "      <td>0.0</td>\n",
       "      <td>0.0</td>\n",
       "      <td>...</td>\n",
       "      <td>0.0</td>\n",
       "      <td>0.0</td>\n",
       "      <td>5.0</td>\n",
       "      <td>0.0</td>\n",
       "      <td>0.0</td>\n",
       "      <td>0.0</td>\n",
       "      <td>0.0</td>\n",
       "      <td>0.0</td>\n",
       "      <td>0.0</td>\n",
       "      <td>0.0</td>\n",
       "    </tr>\n",
       "    <tr>\n",
       "      <th>3</th>\n",
       "      <td>0.0</td>\n",
       "      <td>0.0</td>\n",
       "      <td>0.0</td>\n",
       "      <td>0.0</td>\n",
       "      <td>0.0</td>\n",
       "      <td>0.0</td>\n",
       "      <td>0.0</td>\n",
       "      <td>0.0</td>\n",
       "      <td>0.0</td>\n",
       "      <td>0.0</td>\n",
       "      <td>...</td>\n",
       "      <td>0.0</td>\n",
       "      <td>0.0</td>\n",
       "      <td>0.0</td>\n",
       "      <td>0.0</td>\n",
       "      <td>0.0</td>\n",
       "      <td>0.0</td>\n",
       "      <td>0.0</td>\n",
       "      <td>0.0</td>\n",
       "      <td>0.0</td>\n",
       "      <td>0.0</td>\n",
       "    </tr>\n",
       "    <tr>\n",
       "      <th>4</th>\n",
       "      <td>0.0</td>\n",
       "      <td>0.0</td>\n",
       "      <td>0.0</td>\n",
       "      <td>0.0</td>\n",
       "      <td>0.0</td>\n",
       "      <td>0.0</td>\n",
       "      <td>0.0</td>\n",
       "      <td>0.0</td>\n",
       "      <td>0.0</td>\n",
       "      <td>0.0</td>\n",
       "      <td>...</td>\n",
       "      <td>0.0</td>\n",
       "      <td>0.0</td>\n",
       "      <td>0.0</td>\n",
       "      <td>0.0</td>\n",
       "      <td>0.0</td>\n",
       "      <td>0.0</td>\n",
       "      <td>0.0</td>\n",
       "      <td>0.0</td>\n",
       "      <td>0.0</td>\n",
       "      <td>0.0</td>\n",
       "    </tr>\n",
       "    <tr>\n",
       "      <th>5</th>\n",
       "      <td>2.0</td>\n",
       "      <td>0.0</td>\n",
       "      <td>0.0</td>\n",
       "      <td>0.0</td>\n",
       "      <td>4.0</td>\n",
       "      <td>0.0</td>\n",
       "      <td>0.0</td>\n",
       "      <td>0.0</td>\n",
       "      <td>0.0</td>\n",
       "      <td>2.0</td>\n",
       "      <td>...</td>\n",
       "      <td>3.0</td>\n",
       "      <td>0.0</td>\n",
       "      <td>0.0</td>\n",
       "      <td>0.0</td>\n",
       "      <td>0.0</td>\n",
       "      <td>0.0</td>\n",
       "      <td>5.0</td>\n",
       "      <td>0.0</td>\n",
       "      <td>4.0</td>\n",
       "      <td>0.0</td>\n",
       "    </tr>\n",
       "  </tbody>\n",
       "</table>\n",
       "<p>5 rows × 605 columns</p>\n",
       "</div>"
      ],
      "text/plain": [
       "title    101 Dalmatians (1996)  12 Angry Men (1957)  \\\n",
       "user_id                                               \n",
       "1                          2.0                  5.0   \n",
       "2                          0.0                  0.0   \n",
       "3                          0.0                  0.0   \n",
       "4                          0.0                  0.0   \n",
       "5                          2.0                  0.0   \n",
       "\n",
       "title    2 Days in the Valley (1996)  20,000 Leagues Under the Sea (1954)  \\\n",
       "user_id                                                                     \n",
       "1                                0.0                                  3.0   \n",
       "2                                0.0                                  0.0   \n",
       "3                                0.0                                  0.0   \n",
       "4                                0.0                                  0.0   \n",
       "5                                0.0                                  0.0   \n",
       "\n",
       "title    2001: A Space Odyssey (1968)  39 Steps, The (1935)  \\\n",
       "user_id                                                       \n",
       "1                                 4.0                   0.0   \n",
       "2                                 0.0                   0.0   \n",
       "3                                 0.0                   0.0   \n",
       "4                                 0.0                   0.0   \n",
       "5                                 4.0                   0.0   \n",
       "\n",
       "title    Absolute Power (1997)  Abyss, The (1989)  \\\n",
       "user_id                                             \n",
       "1                          0.0                3.0   \n",
       "2                          3.0                0.0   \n",
       "3                          0.0                0.0   \n",
       "4                          0.0                0.0   \n",
       "5                          0.0                0.0   \n",
       "\n",
       "title    Ace Ventura: Pet Detective (1994)  Addams Family Values (1993)  ...  \\\n",
       "user_id                                                                  ...   \n",
       "1                                      3.0                          0.0  ...   \n",
       "2                                      0.0                          0.0  ...   \n",
       "3                                      0.0                          0.0  ...   \n",
       "4                                      0.0                          0.0  ...   \n",
       "5                                      0.0                          2.0  ...   \n",
       "\n",
       "title    Willy Wonka and the Chocolate Factory (1971)  Wings of Desire (1987)  \\\n",
       "user_id                                                                         \n",
       "1                                                 4.0                     0.0   \n",
       "2                                                 0.0                     0.0   \n",
       "3                                                 0.0                     0.0   \n",
       "4                                                 0.0                     0.0   \n",
       "5                                                 3.0                     0.0   \n",
       "\n",
       "title    Wings of the Dove, The (1997)  \\\n",
       "user_id                                  \n",
       "1                                  0.0   \n",
       "2                                  5.0   \n",
       "3                                  0.0   \n",
       "4                                  0.0   \n",
       "5                                  0.0   \n",
       "\n",
       "title    Winnie the Pooh and the Blustery Day (1968)  \\\n",
       "user_id                                                \n",
       "1                                                0.0   \n",
       "2                                                0.0   \n",
       "3                                                0.0   \n",
       "4                                                0.0   \n",
       "5                                                0.0   \n",
       "\n",
       "title    Wizard of Oz, The (1939)  Wolf (1994)  Wrong Trousers, The (1993)  \\\n",
       "user_id                                                                      \n",
       "1                             4.0          0.0                         5.0   \n",
       "2                             0.0          0.0                         0.0   \n",
       "3                             0.0          0.0                         0.0   \n",
       "4                             0.0          0.0                         0.0   \n",
       "5                             0.0          0.0                         5.0   \n",
       "\n",
       "title    Wyatt Earp (1994)  Young Frankenstein (1974)  Young Guns (1988)  \n",
       "user_id                                                                   \n",
       "1                      0.0                        5.0                3.0  \n",
       "2                      0.0                        0.0                0.0  \n",
       "3                      0.0                        0.0                0.0  \n",
       "4                      0.0                        0.0                0.0  \n",
       "5                      0.0                        4.0                0.0  \n",
       "\n",
       "[5 rows x 605 columns]"
      ]
     },
     "execution_count": 28,
     "metadata": {},
     "output_type": "execute_result"
    }
   ],
   "source": [
    "user_features_df.head()"
   ]
  },
  {
   "cell_type": "markdown",
   "id": "b737d4b9",
   "metadata": {
    "papermill": {
     "duration": 0.01378,
     "end_time": "2023-02-25T21:52:05.314661",
     "exception": false,
     "start_time": "2023-02-25T21:52:05.300881",
     "status": "completed"
    },
    "tags": []
   },
   "source": [
    "## Test the recommendation"
   ]
  },
  {
   "cell_type": "markdown",
   "id": "cf949ad3",
   "metadata": {
    "papermill": {
     "duration": 0.013979,
     "end_time": "2023-02-25T21:52:05.342350",
     "exception": false,
     "start_time": "2023-02-25T21:52:05.328371",
     "status": "completed"
    },
    "tags": []
   },
   "source": [
    "Select one user."
   ]
  },
  {
   "cell_type": "code",
   "execution_count": 29,
   "id": "fd122c77",
   "metadata": {
    "execution": {
     "iopub.execute_input": "2023-02-25T21:52:05.373193Z",
     "iopub.status.busy": "2023-02-25T21:52:05.372546Z",
     "iopub.status.idle": "2023-02-25T21:52:05.383461Z",
     "shell.execute_reply": "2023-02-25T21:52:05.381720Z"
    },
    "papermill": {
     "duration": 0.029728,
     "end_time": "2023-02-25T21:52:05.386559",
     "exception": false,
     "start_time": "2023-02-25T21:52:05.356831",
     "status": "completed"
    },
    "tags": []
   },
   "outputs": [
    {
     "name": "stdout",
     "output_type": "stream",
     "text": [
      "855\n"
     ]
    }
   ],
   "source": [
    "query_index = np.random.choice(user_features_df.shape[0])\n",
    "print(query_index)"
   ]
  },
  {
   "cell_type": "markdown",
   "id": "28e6142a",
   "metadata": {
    "papermill": {
     "duration": 0.01352,
     "end_time": "2023-02-25T21:52:05.413804",
     "exception": false,
     "start_time": "2023-02-25T21:52:05.400284",
     "status": "completed"
    },
    "tags": []
   },
   "source": [
    "Use the model fit to get the closest movies"
   ]
  },
  {
   "cell_type": "code",
   "execution_count": 30,
   "id": "021843e3",
   "metadata": {
    "execution": {
     "iopub.execute_input": "2023-02-25T21:52:05.443984Z",
     "iopub.status.busy": "2023-02-25T21:52:05.443508Z",
     "iopub.status.idle": "2023-02-25T21:52:05.563547Z",
     "shell.execute_reply": "2023-02-25T21:52:05.562071Z"
    },
    "papermill": {
     "duration": 0.139314,
     "end_time": "2023-02-25T21:52:05.566787",
     "exception": false,
     "start_time": "2023-02-25T21:52:05.427473",
     "status": "completed"
    },
    "tags": []
   },
   "outputs": [
    {
     "name": "stdout",
     "output_type": "stream",
     "text": [
      "[[2.22044605e-16 3.15945732e-01 3.20864243e-01 3.32986558e-01\n",
      "  3.48163321e-01 3.51208884e-01]] [[855 111 355  99 645 615]]\n"
     ]
    }
   ],
   "source": [
    "distances, indices = model_knn.kneighbors(user_features_df.iloc[query_index,:].values.reshape(1, -1), n_neighbors = 6)\n",
    "print(distances, indices)"
   ]
  },
  {
   "cell_type": "code",
   "execution_count": 31,
   "id": "da12c3e0",
   "metadata": {
    "execution": {
     "iopub.execute_input": "2023-02-25T21:52:05.597204Z",
     "iopub.status.busy": "2023-02-25T21:52:05.596722Z",
     "iopub.status.idle": "2023-02-25T21:52:05.606398Z",
     "shell.execute_reply": "2023-02-25T21:52:05.604884Z"
    },
    "papermill": {
     "duration": 0.028767,
     "end_time": "2023-02-25T21:52:05.609708",
     "exception": false,
     "start_time": "2023-02-25T21:52:05.580941",
     "status": "completed"
    },
    "tags": []
   },
   "outputs": [
    {
     "name": "stdout",
     "output_type": "stream",
     "text": [
      "Users similar with user having user_id:  856\n",
      "---------------------------------------------------------\n",
      "0: 856 (dist: 2.220446049250313e-16)\n",
      "1: 112 (dist: 0.3159457318314658)\n",
      "2: 356 (dist: 0.3208642430855845)\n",
      "3: 100 (dist: 0.3329865576701586)\n",
      "4: 646 (dist: 0.34816332070832035)\n",
      "5: 616 (dist: 0.35120888419470775)\n"
     ]
    }
   ],
   "source": [
    "user_ids = []\n",
    "for index in range(0, len(distances.flatten())+1):\n",
    "    user_ids.append(user_features_df.index[indices.flatten()[index-1]])\n",
    "    if index == 0: # the movie chosen\n",
    "        print(f\"Users similar with user having user_id:  {user_features_df.index[query_index]}\")\n",
    "        print(\"---------------------------------------------------------\")\n",
    "    else:\n",
    "        print(f\"{index-1}: {user_features_df.index[indices.flatten()[index-1]]} (dist: {distances.flatten()[index-1]})\")"
   ]
  },
  {
   "cell_type": "code",
   "execution_count": 32,
   "id": "11c264ff",
   "metadata": {
    "execution": {
     "iopub.execute_input": "2023-02-25T21:52:05.639664Z",
     "iopub.status.busy": "2023-02-25T21:52:05.639233Z",
     "iopub.status.idle": "2023-02-25T21:52:05.644397Z",
     "shell.execute_reply": "2023-02-25T21:52:05.643442Z"
    },
    "papermill": {
     "duration": 0.023565,
     "end_time": "2023-02-25T21:52:05.647374",
     "exception": false,
     "start_time": "2023-02-25T21:52:05.623809",
     "status": "completed"
    },
    "tags": []
   },
   "outputs": [
    {
     "name": "stdout",
     "output_type": "stream",
     "text": [
      "[616, 856, 112, 356, 100, 646, 616]\n"
     ]
    }
   ],
   "source": [
    "print(user_ids)"
   ]
  },
  {
   "cell_type": "markdown",
   "id": "f1a99b3d",
   "metadata": {
    "papermill": {
     "duration": 0.013516,
     "end_time": "2023-02-25T21:52:05.674695",
     "exception": false,
     "start_time": "2023-02-25T21:52:05.661179",
     "status": "completed"
    },
    "tags": []
   },
   "source": [
    "These users are similar to the current user selected. For this user, we will recommend movies that were ranked by the users similar to him."
   ]
  },
  {
   "cell_type": "code",
   "execution_count": 41,
   "id": "4a732f70",
   "metadata": {
    "execution": {
     "iopub.execute_input": "2023-02-25T21:52:05.705511Z",
     "iopub.status.busy": "2023-02-25T21:52:05.705080Z",
     "iopub.status.idle": "2023-02-25T21:52:05.734197Z",
     "shell.execute_reply": "2023-02-25T21:52:05.732662Z"
    },
    "papermill": {
     "duration": 0.049848,
     "end_time": "2023-02-25T21:52:05.738888",
     "exception": false,
     "start_time": "2023-02-25T21:52:05.689040",
     "status": "completed"
    },
    "tags": []
   },
   "outputs": [
    {
     "name": "stdout",
     "output_type": "stream",
     "text": [
      "\n",
      "Movies recommended to user: 855\n",
      "---------------------------------\n",
      "1: Mrs. Brown (Her Majesty, Mrs. Brown) (1997)\n",
      "2: Midnight in the Garden of Good and Evil (1997)\n",
      "3: Eve's Bayou (1997)\n",
      "4: Liar Liar (1997)\n",
      "5: Tomorrow Never Dies (1997)\n",
      "6: Seven Years in Tibet (1997)\n",
      "7: Rainmaker, The (1997)\n",
      "8: Kiss the Girls (1997)\n",
      "9: Postman, The (1997)\n",
      "10: Red Corner (1997)\n"
     ]
    }
   ],
   "source": [
    "# select movies that were highly ranked by the most similar users.\n",
    "\n",
    "# look only for movies highly rated by the similar users, not the current user\n",
    "candidate_user_ids = user_ids[1:]\n",
    "sel_ratings = rating_popular_movies_df.loc[rating_popular_movies_df.user_id.isin(candidate_user_ids)]\n",
    "\n",
    "# sort by best ratings and total rating count\n",
    "sel_ratings = sel_ratings.sort_values(by=[\"rating\", \"total_rating_count\"], ascending=False)\n",
    "\n",
    "# eliminate from the selection movies that were ranked already by the current user\n",
    "movies_rated_by_targeted_user = list(rating_popular_movies_df.loc[rating_popular_movies_df.user_id==user_ids[0]][\"movie_id\"].values)\n",
    "sel_ratings = sel_ratings.loc[~sel_ratings.movie_id.isin(movies_rated_by_targeted_user)]\n",
    "# print(sel_ratings.head())\n",
    "\n",
    "# aggregate and count total ratings and total total_rating_count\n",
    "agg_sel_ratings = sel_ratings.groupby([\"title\", \"rating\"])[\"total_rating_count\"].max().reset_index()\n",
    "agg_sel_ratings.columns = [\"title\", \"rating\", \"total_ratings\"]\n",
    "agg_sel_ratings = agg_sel_ratings.sort_values(by=[\"rating\", \"total_ratings\"], ascending=False)\n",
    "# print(agg_sel_ratings.head(5))\n",
    "\n",
    "# only select top n (default top 10 here)\n",
    "rec_list = agg_sel_ratings[\"title\"].head(10).values\n",
    "print(f\"\\nMovies recommended to user: {indices[0][0]}\\n---------------------------------\")\n",
    "for i, rec in enumerate(rec_list):\n",
    "    print(f\"{i+1}: {rec}\")"
   ]
  },
  {
   "attachments": {},
   "cell_type": "markdown",
   "id": "fc608bcd",
   "metadata": {
    "papermill": {
     "duration": 0.013593,
     "end_time": "2023-02-25T21:52:05.766747",
     "exception": false,
     "start_time": "2023-02-25T21:52:05.753154",
     "status": "completed"
    },
    "tags": []
   },
   "source": [
    "Packing this in a recommendation function."
   ]
  },
  {
   "cell_type": "code",
   "execution_count": 42,
   "id": "6c7afd26",
   "metadata": {
    "execution": {
     "iopub.execute_input": "2023-02-25T21:52:05.797150Z",
     "iopub.status.busy": "2023-02-25T21:52:05.796643Z",
     "iopub.status.idle": "2023-02-25T21:52:05.810099Z",
     "shell.execute_reply": "2023-02-25T21:52:05.808676Z"
    },
    "papermill": {
     "duration": 0.032777,
     "end_time": "2023-02-25T21:52:05.813487",
     "exception": false,
     "start_time": "2023-02-25T21:52:05.780710",
     "status": "completed"
    },
    "tags": []
   },
   "outputs": [],
   "source": [
    "def recommend(user_id=10, n_users=5):\n",
    "\n",
    "    distances, indices = model_knn.kneighbors(user_features_df.loc[user_features_df.index==user_id].values.reshape(1, -1), n_neighbors = n_users + 1)\n",
    "    user_ids = []\n",
    "    for index in range(0, len(distances.flatten())):\n",
    "        user_ids.append(user_features_df.index[indices.flatten()[index]])\n",
    "        if index == 0: # the movie chosen\n",
    "            print(f\"Users similar with user having user_id: {user_id}\")\n",
    "            print(\"---------------------------------------------------------\")\n",
    "        else:\n",
    "            print(f\"{index}: {user_features_df.index[indices.flatten()[index]]} (dist: {distances.flatten()[index]})\")\n",
    "\n",
    "    # select movies that were highly ranked by the most similar users.\n",
    "\n",
    "    # look only for movies highly rated by the similar users, not the current user\n",
    "    candidate_user_ids = user_ids[1:]\n",
    "    sel_ratings = rating_popular_movies_df.loc[rating_popular_movies_df.user_id.isin(candidate_user_ids)]\n",
    "\n",
    "    # sort by best ratings and total rating count\n",
    "    sel_ratings = sel_ratings.sort_values(by=[\"rating\", \"total_rating_count\"], ascending=False)\n",
    "\n",
    "    # eliminate from the selection movies that were ranked already by the current user\n",
    "    movies_rated_by_targeted_user = list(rating_popular_movies_df.loc[rating_popular_movies_df.user_id==user_ids[0]][\"movie_id\"].values)\n",
    "    sel_ratings = sel_ratings.loc[~sel_ratings.movie_id.isin(movies_rated_by_targeted_user)]\n",
    "\n",
    "    # aggregate and count total ratings and total total_rating_count\n",
    "    agg_sel_ratings = sel_ratings.groupby([\"title\", \"rating\"])[\"total_rating_count\"].max().reset_index()\n",
    "    agg_sel_ratings.columns = [\"title\", \"rating\", \"total_ratings\"]\n",
    "    agg_sel_ratings = agg_sel_ratings.sort_values(by=[\"rating\", \"total_ratings\"], ascending=False)\n",
    "    \n",
    "    # only select top n (default top 10 here)\n",
    "    rec_list = agg_sel_ratings[\"title\"].head(10).values\n",
    "    print(f\"\\nMovies recommended to user_id: {user_ids[0]}\\n---------------------------------\")\n",
    "    for i, rec in enumerate(rec_list):\n",
    "        print(f\"{i+1}: {rec}\")"
   ]
  },
  {
   "cell_type": "code",
   "execution_count": 43,
   "id": "21288412",
   "metadata": {
    "execution": {
     "iopub.execute_input": "2023-02-25T21:52:05.844272Z",
     "iopub.status.busy": "2023-02-25T21:52:05.843804Z",
     "iopub.status.idle": "2023-02-25T21:52:05.969061Z",
     "shell.execute_reply": "2023-02-25T21:52:05.967633Z"
    },
    "papermill": {
     "duration": 0.145809,
     "end_time": "2023-02-25T21:52:05.973649",
     "exception": false,
     "start_time": "2023-02-25T21:52:05.827840",
     "status": "completed"
    },
    "tags": []
   },
   "outputs": [
    {
     "name": "stdout",
     "output_type": "stream",
     "text": [
      "Users similar with user having user_id: 10\n",
      "---------------------------------------------------------\n",
      "1: 234 (dist: 0.37382107196580316)\n",
      "2: 537 (dist: 0.40290351988110495)\n",
      "3: 474 (dist: 0.4032779366336642)\n",
      "4: 6 (dist: 0.40430878000573434)\n",
      "5: 308 (dist: 0.4097895728230926)\n",
      "\n",
      "Movies recommended to user_id: 10\n",
      "---------------------------------\n",
      "1: Return of the Jedi (1983)\n",
      "2: Empire Strikes Back, The (1980)\n",
      "3: Fugitive, The (1993)\n",
      "4: Indiana Jones and the Last Crusade (1989)\n",
      "5: Princess Bride, The (1987)\n",
      "6: E.T. the Extra-Terrestrial (1982)\n",
      "7: Schindler's List (1993)\n",
      "8: Birdcage, The (1996)\n",
      "9: Mr. Holland's Opus (1995)\n",
      "10: Blade Runner (1982)\n"
     ]
    }
   ],
   "source": [
    "recommend(10, 5)"
   ]
  },
  {
   "cell_type": "code",
   "execution_count": 36,
   "id": "44dd9872",
   "metadata": {
    "execution": {
     "iopub.execute_input": "2023-02-25T21:52:06.004636Z",
     "iopub.status.busy": "2023-02-25T21:52:06.004111Z",
     "iopub.status.idle": "2023-02-25T21:52:06.130306Z",
     "shell.execute_reply": "2023-02-25T21:52:06.127998Z"
    },
    "papermill": {
     "duration": 0.145487,
     "end_time": "2023-02-25T21:52:06.133410",
     "exception": false,
     "start_time": "2023-02-25T21:52:05.987923",
     "status": "completed"
    },
    "tags": []
   },
   "outputs": [
    {
     "name": "stdout",
     "output_type": "stream",
     "text": [
      "Users similar with user having user_id: 42\n",
      "---------------------------------------------------------\n",
      "1: 577 (dist: 0.3958676193727865)\n",
      "2: 311 (dist: 0.40028709528715156)\n",
      "3: 864 (dist: 0.402753494720138)\n",
      "4: 749 (dist: 0.4169928025552443)\n",
      "5: 378 (dist: 0.4177061202735576)\n",
      "\n",
      "Movies recommended to user_id: 42\n",
      "---------------------------------\n",
      "1: Contact (1997)\n",
      "2: Fargo (1996)\n",
      "3: English Patient, The (1996)\n",
      "4: Scream (1996)\n",
      "5: Pulp Fiction (1994)\n",
      "6: Twelve Monkeys (1995)\n",
      "7: Titanic (1997)\n",
      "8: Dead Man Walking (1995)\n",
      "9: Braveheart (1995)\n",
      "10: L.A. Confidential (1997)\n"
     ]
    }
   ],
   "source": [
    "recommend(42, 5)"
   ]
  },
  {
   "cell_type": "code",
   "execution_count": 44,
   "id": "310d3803",
   "metadata": {
    "execution": {
     "iopub.execute_input": "2023-02-25T21:52:06.165337Z",
     "iopub.status.busy": "2023-02-25T21:52:06.164477Z",
     "iopub.status.idle": "2023-02-25T21:52:06.290549Z",
     "shell.execute_reply": "2023-02-25T21:52:06.288233Z"
    },
    "papermill": {
     "duration": 0.146105,
     "end_time": "2023-02-25T21:52:06.293718",
     "exception": false,
     "start_time": "2023-02-25T21:52:06.147613",
     "status": "completed"
    },
    "tags": []
   },
   "outputs": [
    {
     "name": "stdout",
     "output_type": "stream",
     "text": [
      "Users similar with user having user_id: 314\n",
      "---------------------------------------------------------\n",
      "1: 393 (dist: 0.4401651039456249)\n",
      "2: 222 (dist: 0.4568145448058286)\n",
      "3: 416 (dist: 0.4626341034314684)\n",
      "4: 130 (dist: 0.46824745777266696)\n",
      "5: 682 (dist: 0.47293188005667464)\n",
      "\n",
      "Movies recommended to user_id: 314\n",
      "---------------------------------\n",
      "1: Star Wars (1977)\n",
      "2: Contact (1997)\n",
      "3: Fargo (1996)\n",
      "4: Return of the Jedi (1983)\n",
      "5: English Patient, The (1996)\n",
      "6: Air Force One (1997)\n",
      "7: Raiders of the Lost Ark (1981)\n",
      "8: Godfather, The (1972)\n",
      "9: Silence of the Lambs, The (1991)\n",
      "10: Empire Strikes Back, The (1980)\n"
     ]
    }
   ],
   "source": [
    "recommend(314, 5)"
   ]
  },
  {
   "cell_type": "code",
   "execution_count": null,
   "id": "699ea657",
   "metadata": {},
   "outputs": [],
   "source": []
  }
 ],
 "metadata": {
  "kernelspec": {
   "display_name": "Python 3",
   "language": "python",
   "name": "python3"
  },
  "language_info": {
   "codemirror_mode": {
    "name": "ipython",
    "version": 3
   },
   "file_extension": ".py",
   "mimetype": "text/x-python",
   "name": "python",
   "nbconvert_exporter": "python",
   "pygments_lexer": "ipython3",
   "version": "3.9.7"
  },
  "papermill": {
   "default_parameters": {},
   "duration": 18.623799,
   "end_time": "2023-02-25T21:52:07.234633",
   "environment_variables": {},
   "exception": null,
   "input_path": "__notebook__.ipynb",
   "output_path": "__notebook__.ipynb",
   "parameters": {},
   "start_time": "2023-02-25T21:51:48.610834",
   "version": "2.4.0"
  },
  "vscode": {
   "interpreter": {
    "hash": "865d8b2eb28e274047ba64063dfb6a2aabf0dfec4905d304d7a76618dae6fdd4"
   }
  }
 },
 "nbformat": 4,
 "nbformat_minor": 5
}
